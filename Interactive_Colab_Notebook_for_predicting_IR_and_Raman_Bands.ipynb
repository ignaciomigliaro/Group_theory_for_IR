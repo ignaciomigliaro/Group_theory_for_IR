{
  "cells": [
    {
      "cell_type": "markdown",
      "metadata": {
        "id": "view-in-github",
        "colab_type": "text"
        "id": "view-in-github"
      },
      "source": [
        "<a href=\"https://colab.research.google.com/github/ignaciomigliaro/Group_theory_for_IR/blob/main/Interactive_Colab_Notebook_for_predicting_IR_and_Raman_Bands.ipynb\" target=\"_parent\"><img src=\"https://colab.research.google.com/assets/colab-badge.svg\" alt=\"Open In Colab\"/></a>"
      ]
    },
    {
      "cell_type": "markdown",
      "metadata": {
        "id": "V3J01nJfYtmF"
      },
      "source": [
        "#**Prediction of IR and Raman bands with Group theory**\n",
        "by Ignacio Migliaro, Olajumoke M. Ayeni"
      ]
    },
    {
      "cell_type": "markdown",
      "metadata": {
        "id": "QSp4SixSZG4X"
      },
      "source": [
        "![picture](https://drive.google.com/uc?export=view&id=17fx7fkxRZgJq76w5pQSZfi6SEcZIXGX1)\n",
        "\n",
        "<p align=\"justify\">\n",
        "Welcome to this notebook, where we'll be exploring the fascinating world of infrared (IR) and Raman spectroscopy! These analytical techniques allow us to probe the vibrations of molecules, giving us valuable information about their structure and properties. In this notebook, we'll be using the powerful framework of group theory to predict the IR and Raman bands of molecules. Group theory provides a systematic way of analyzing the symmetries and vibrations of molecules, helping us to understand the different types of vibrational modes and their corresponding spectral features. So, get ready to delve into the exciting world of molecular vibrations and spectroscopy, and let's use group theory to unlock the secrets of IR and Raman spectra!"
      ]
    },
    {
      "cell_type": "markdown",
      "metadata": {
        "id": "hMqw7BGcvjT0"
      },
      "source": [
        "## **Introduction:**\n",
        "\n",
        "<p align=\"justify\"> In chemistry, the study of molecular vibrations plays a critical role in understanding the chemical and physical properties of molecules. The vibrational spectroscopy techniques of IR (infrared) and Raman spectroscopy are used extensively to study the vibrational properties of molecules. Group theory and symmetry principles provide a powerful framework for understanding the vibrational modes of molecules and predicting their corresponding IR and Raman spectral bands. By applying group theory and symmetry, chemists can accurately assign and interpret the observed vibrational spectra of molecules. In this context, group theory and symmetry represent fundamental tools for analyzing and interpreting vibrational spectroscopy data, enabling a deeper understanding of the structural and electronic properties of molecules."
      ]
    },
    {
      "cell_type": "markdown",
      "metadata": {
        "id": "uiiZPACbxfel"
      },
      "source": [
        "### VSEPR\n",
        "<p align=\"justify\"> Picture a group of friends planning to go out to dinner together. They want to sit at the same table but don't want to feel cramped or too far apart. Just like these friends, atoms in a molecule also want to stay as far apart as possible. VSEPR (Valence Shell Electron Pair Repulsion) theory helps us understand how atoms arrange themselves in a molecule by looking at the number of electron pairs in the valence (outermost) shell of the central atom. These electron pairs repel each other, leading to specific geometries that maximize the distance between them. For example, in a molecule with two electron pairs, the geometry is linear, just like two friends sitting across from each other at a table. In a molecule with three electron pairs, the geometry is trigonal planar, just like three friends sitting around a circular table. With VSEPR, we can predict the shape of a molecule, which is important because the shape determines the chemical and physical properties of the molecule. So, just like friends at a dinner table, atoms in a molecule also need their space!\n",
        "\n",
        "![picture](https://drive.google.com/uc?export=view&id=1MSJRLd7qmoDme6Uh7Rex2u3NwpECuTln) ![picture](https://drive.google.com/uc?export=view&id=1dvbv02EynyDRvWlV9Dd7CB0m39P2uxUX) ![picture](https://drive.google.com/uc?export=view&id=1IYhNaIiIaCg5F5ypKLPPnBGm6i9uTLWv) ![picture](https://drive.google.com/uc?export=view&id=1WMs4DoGA15UrJurlX1gg5kyYmirtoRaG) ![picture](https://drive.google.com/uc?export=view&id=13FhfJCDu8q5j6xYBM4wBh2y7ijmhnHQT)"
      ]
    },
    {
      "cell_type": "markdown",
      "metadata": {
        "id": "_Ygzxbivz-I0"
      },
      "source": [
        "### Group Theory\n",
        "\n",
        "<p align=\"justify\"> Imagine you're playing a game of Tetris. The different pieces that fall down are like the atoms in a molecule, and the way they fit together to form a complete structure is like the symmetry and group properties of the molecule. Group theory is like the set of rules that dictate which pieces can fit together and how they can be arranged to form a complete structure. In chemistry, we use group theory to analyze the symmetry and properties of molecules, just like how we use the rules of Tetris to fit the different pieces together. By understanding the different symmetries and operations that a molecule can undergo, we can predict its properties, such as its dipole moment, electronic transitions, and spectroscopic behavior. Group theory provides a powerful framework for understanding the behavior of molecules, just like the rules of Tetris provide a framework for fitting the different pieces together to form a complete structure."
      ]
    },
    {
      "cell_type": "markdown",
      "metadata": {
        "id": "Ltw1JelN0tAV"
      },
      "source": [
        "### Steps in how to determine IR bands and Raman bands using Group Theory\n",
        "<p align=\"justify\">\n",
        "<ol>\n",
        "<li>Figure out what shape the molecule has: To use group theory, we need to know what the molecule looks like. This means figuring out its shape and symmetry.</li>\n",
        "<li>Predict the vibrations of the molecule: Molecules vibrate in different ways, and these vibrations can be analyzed using IR and Raman spectroscopy. We predict the different types of vibrations the molecule can have based on its shape and symmetry.</li>\n",
        "<li>Decide which vibrations are IR active and which are Raman active: IR active vibrations involve a change in the dipole moment of the molecule, while Raman active vibrations involve a change in polarizability.</li>\n",
        "<li>Interpret the results: Once we know which vibrations are IR and Raman active, we can analyze the resulting spectrum to learn more about the molecule's structure and properties.</li>\n",
        "</ol>"
      ]
    },
    {
      "cell_type": "markdown",
      "metadata": {
        "id": "RoMjZ9mwrxi0"
      },
      "source": [
        "### Selecting the VSEPR geometry of interest:\n",
        "\n",
        "<p align=\"justify\"> This is Step 1, here we will be selecting whichever molecule you wish to run the symmetry operations for in the dropdown menu and how to visualize the 3D model. The \"X\" represents the same atom that is attached to the atom center and the \"E\" represents a lone electron pair. For ease of comprehension the symmetry of the molecule is pre-defined, in most cases you will have to determine the point group of the molecule. The user is encouraged to test the code for all the different VSEPR geometries found here.  \n",
        "\n",
        "![picture](https://drive.google.com/uc?export=view&id=14FVW3uDsWxXfDyL4qaRVezj_9mdLB3Or)\n",
        "\n",
        "![picture](https://drive.google.com/uc?export=view&id=1XVuFt6si2TjU2ZXaejYNTAYIcW3DStBv)\n"
      ]
    },
    {
      "cell_type": "markdown",
      "metadata": {
        "id": "bLvAyhv1zThj"
      },
      "source": [
        "## **Let the Journey Begin!**\n"
      ]
    },
    {
      "cell_type": "code",
      "execution_count": null,
      "metadata": {
        "id": "sPEYm3D66WZq",
        "cellView": "form"
        "cellView": "form",
        "id": "sPEYm3D66WZq"
      },
      "outputs": [],
      "source": [
        "#@title **PREPARE THE NOTEBOOK: Run this cell to see instructions**\n"
      ]
    },
    {
      "cell_type": "code",
      "execution_count": null,
      "metadata": {
        "cellView": "form",
        "id": "9Uuv2l3zzkah"
      },
      "outputs": [],
      "source": [
        "# @title *Download the dependencies for this notebook by running this cell:*\n",
        "!git clone https://github.com/ignaciomigliaro/Group_theory_for_IR --quiet > /dev/null\n",
        "!pip install py3Dmol -q\n",
        "# @title Open .xyz file with cartesian coordinates\n",
        "def open_file(file):\n",
        "        path=\"./Group_theory_for_IR/Molecules/\"+file+\".xyz\"\n",
        "        with open(path) as ifile:\n",
        "          file_name = \"\".join([x for x in ifile])\n",
        "        return file_name\n",
        "\n",
        "CO2=open_file(\"CO2\")\n",
        "BH3=open_file(\"BH3\")\n",
        "SO2=open_file(\"SO2\")\n",
        "CH4=open_file(\"CH4\")\n",
        "NH3=open_file(\"NH3\")\n",
        "H2O=open_file(\"H2O\")\n",
        "PF5=open_file(\"PF5\")\n",
        "SF4=open_file(\"SF4\")\n",
        "ClF3=open_file(\"ClF3\")\n",
        "PtCl4=open_file(\"PtCl4\")\n",
        "ClF5=open_file(\"ClF5\")\n",
        "FeCl6=open_file(\"FeCl6\")\n",
        "FeCl2=open_file(\"FeCl2\")"
      ]
    },
    {
      "cell_type": "markdown",
      "metadata": {
        "id": "nqO7PCoM4w2C"
      },
      "source": [
        "## **STEP 1:**"
      ]
    },
    {
      "cell_type": "code",
      "execution_count": null,
      "metadata": {
        "id": "Un4A0QwkAPoT",
        "cellView": "form"
        "cellView": "form",
        "id": "Un4A0QwkAPoT"
      },
      "outputs": [],
      "source": [
        "# @title ***Here you will choose your molecule and determine its point group***\n"
      ]
    },
    {
      "cell_type": "code",
      "execution_count": null,
      "metadata": {
        "cellView": "form",
        "id": "K8IcoH_s1gM6"
      },
      "outputs": [],
      "source": [
        "#@title *Choose geometry (AXE system) of the molecule from the drop down after running this cell*\n",
        "from ipywidgets import interactive,fixed,IntSlider\n",
        "import ipywidgets\n",
        "import py3Dmol\n",
        "import numpy as np\n",
        "\n",
        "smis = [CO2,\n",
        "        BH3,\n",
        "        SO2,\n",
        "        CH4,\n",
        "        NH3,\n",
        "        H2O,\n",
        "        PF5,\n",
        "        SF4,\n",
        "        ClF3,\n",
        "        FeCl6,\n",
        "        ClF5,\n",
        "        PtCl4,\n",
        "        FeCl2]\n",
        "\n",
        "def style_selector(idx, s):\n",
        "    conf = smis[idx]\n",
        "    return py3Dmol.view(data=conf, style=s).show()\n",
        "\n",
        "a=interactive(style_selector,\n",
        "         idx=ipywidgets.Dropdown(\n",
        "             options=[('AX2', 0), ('AX3', 1), ('AX2E', 2) , ('AX4', 3), ('AX3E', 4), ('AX2E2', 5), ('AX5', 6), ('AX4E', 7), ('AX3E2', 8), ('AX6', 9), ('AX5E', 10), ('AX4E2', 11), ('AX2E4', 12)], #0-12 represents the molecules in their order in the list.\n",
        "             value=12,\n",
        "             description= 'Geometry:'),\n",
        "         s=ipywidgets.Dropdown(\n",
        "            options=['stick','line','sphere'],\n",
        "            value='stick',\n",
        "            description='Style:'))\n",
        "display(a)\n",
        "\n",
        "def point_group(x):\n",
        "  if x == 0 :\n",
        "    geometry=\"AX2\"\n",
        "    point_group=\"Di\"\n",
        "  if x == 1:\n",
        "    geometry=\"AX3\"\n",
        "    point_group=\"D3h\"\n",
        "  if x == 2:\n",
        "    geometry=\"AX2E\"\n",
        "    point_group=\"C2v\"\n",
        "  if x == 3:\n",
        "    geometry=\"AX4\"\n",
        "    point_group=\"Td\"\n",
        "  if x == 4:\n",
        "    geometry=\"AX3E\"\n",
        "    point_group=\"C3v\"\n",
        "  if x == 5:\n",
        "    geometry='AX2E2'\n",
        "    point_group='C2v'\n",
        "  if x == 6:\n",
        "    geometry='AX5'\n",
        "    point_group='D3h'\n",
        "  if x == 7:\n",
        "    geometry='AX4E'\n",
        "    point_group='C2v'\n",
        "  if x == 8:\n",
        "    geometry='AX3E2'\n",
        "    point_group='C2v'\n",
        "  if x == 9:\n",
        "    geometry='AX6'\n",
        "    point_group='Oh'\n",
        "  if x == 10:\n",
        "    geometry='AX5E'\n",
        "    point_group='C4v'\n",
        "  if x == 11:\n",
        "    geometry='AX4E2'\n",
        "    point_group='D4h'\n",
        "  if x == 12:\n",
        "    geometry='AX2E4'\n",
        "    point_group='Di'\n",
        "  return(geometry,point_group)"
      ]
    },
    {
      "cell_type": "code",
      "execution_count": null,
      "metadata": {
        "cellView": "form",
        "id": "ARV3V6LS-p2c"
      },
      "outputs": [],
      "source": [
        "#@title *Deduce the point group of the molecule by running this code cell*\n",
        "import numpy as np\n",
        "def file_matrix(file):\n",
        "    split=file.split()\n",
        "    mat=np.array(split[2:])\n",
        "    row=int(len(mat)/4)\n",
        "    matrix=mat.reshape(row,4)\n",
        "    return(matrix)\n",
        "#obtains slider value to pass and find xyz matrix.\n",
        "x=int(a.kwargs['idx'])\n",
        "molecule,pg=point_group(x)\n",
        "print(\"Your molecular geometry is:\",molecule)\n",
        "print(\"Your point group is:\",pg)\n",
        "file=smis[x]\n",
        "name_atoms=file_matrix(file)\n",
        "atoms=np.array(name_atoms[:,1:])\n",
        "atoms=atoms.astype(float)\n",
        "atoms=np.round(atoms.astype(float),3)\n",
        "natoms=int(np.shape(atoms)[0])"
      ]
    },
    {
      "cell_type": "markdown",
      "metadata": {
        "id": "DjsZoK075IVu"
      },
      "source": [
        "## **STEP 2:**"
      ]
    },
    {
      "cell_type": "code",
      "execution_count": null,
      "metadata": {
        "id": "zTmwdkj5C9kP",
        "cellView": "form"
        "cellView": "form",
        "id": "zTmwdkj5C9kP"
      },
      "outputs": [],
      "source": [
        "# @title ***Next, you will apply symmetry operations on your molecule and determine the number of unchanged positions***\n"
      ]
    },
    {
      "cell_type": "markdown",
      "metadata": {
        "id": "gM_pcbzcrOT9"
      },
      "source": [
        "### **Lets talk about Symmetry operations!**\n",
        "<p align=\"justify\">\n",
        "Symmetry operations are a way of describing the different ways in which a molecule can be transformed while maintaining its overall shape and structure. One way to represent symmetry operations is through matrices.\n",
        "Matrices are mathematical objects that can be used to transform vectors (i.e. quantities that have both magnitude and direction) and points in space. In the context of symmetry operations, we use matrices to represent the way in which the molecule is transformed by the operation.\n",
        "For example, consider a molecule that has a plane of symmetry. To represent this symmetry operation as a matrix, we can use a 3x3 matrix that describes the transformation of each coordinate in space. The elements of the matrix correspond to the x, y, and z components of the transformed vector.\n",
        "When the matrix is applied to the original molecule, the resulting molecule is reflected across the plane of symmetry, while maintaining its overall shape and structure.\n",
        "Similarly, other symmetry operations such as rotations and inversions can also be represented as matrices. By using matrices to represent symmetry operations, we can use mathematical tools to analyze the symmetry properties of a molecule and predict its behavior in various situations, such as in IR and Raman spectroscopy."
      ]
    },
    {
      "cell_type": "markdown",
      "metadata": {
        "id": "v8AuuPE94_Vl"
      },
      "source": [
        " ***Symmetry operations can be written as numpy arrays.***\n",
        "\n",
        "<p align=\"justify\"> Symmetry operations can also be represented using numpy arrays, which are a type of data structure in Python that allows for efficient manipulation of large arrays and matrices.\n",
        "\n",
        "In the context of symmetry operations, numpy arrays can be used to represent the transformation of a molecule's coordinates under a particular symmetry operation. For example, if a molecule has a C2 axis of rotation, we can represent this operation using a 3x3 numpy array that describes the transformation of each coordinate in space.\n",
        "\n",
        "$C_2$\n",
        " \\begin{pmatrix}\n",
        "cos(\\theta) & -sin(\\theta) & 0\\\\\n",
        "sin(\\theta) & cos(\\theta) & 0\\\\\n",
        "0 & 0 & 1\n",
        "\\end{pmatrix}\n",
        "Here $\\theta = \\pi$, therefore $cos(\\pi)=1$ and $sin(\\pi)=0$, this is the definition for a rotation on the z-axis.\n",
        "\n",
        "<img src=\"https://drive.google.com/uc?export=view&id=1ZeDMfi3x5ONpun4tQN3F5tINNMyEiWnQ\" width=200>\n",
        "\n",
        "\n",
        "<p align=\"justify\"> To apply this symmetry operation to a molecule, we can simply multiply the coordinates of each atom in the molecule by the numpy array. This results in a transformed molecule that has the same overall shape and structure, but with different coordinates for each atom.\n",
        "\n",
        "Using numpy arrays to represent symmetry operations can be very useful for computational chemistry and spectroscopy, as it allows for fast and efficient calculations of the effects of different symmetry operations on a molecule."
      ]
    },
    {
      "cell_type": "code",
      "execution_count": null,
      "metadata": {
        "cellView": "form",
        "id": "ISIUznFq5G0U"
      },
      "outputs": [],
      "source": [
        "#@title *Now run symmetry operations as arrays*\n",
        "\n",
        "\n",
        "import sympy as sp\n",
        "import math\n",
        "from numpy.linalg import multi_dot\n",
        "\n",
        "atoms2=atoms\n",
        "atoms1 = np.delete(atoms2, (0), axis=0)\n",
        "\n",
        "###These are the some symmetry operations\n",
        "def identity_matrix(natoms):\n",
        "  E=np.identity(3)\n",
        "  E_matrix=np.dot(atoms1,E)\n",
        "  return(E,E_matrix.astype(float))\n",
        "  E_matrix_rounded = np.round(E_matrix.astype(float),3)\n",
        "  return(E,E_matrix_rounded)\n",
        "\n",
        "def c4_matrix(): #This is a 90 degree proper rotation on Z-axis\n",
        "  C4=np.array([[round(sp.cos(sp.pi/2),4),(round(-sp.sin(sp.pi/2), 4)),0],[round(sp.sin(sp.pi/2), 4),(round(sp.cos(sp.pi/2), 4)),0],[0,0,1]])\n",
        "  c4_matrix=np.dot(atoms1,C4)\n",
        "  return(C4,c4_matrix.astype(float))\n",
        "  c4_matrix_rounded = np.round(c4_matrix.astype(float),3)\n",
        "  return(C4,c4_matrix_rounded)\n",
        "\n",
        "def c4y_matrix(): #This is a 90 degree proper rotation on y-axis\n",
        "  C4y=np.array([[round(sp.cos(sp.pi/2),4),0,(round(-sp.sin(sp.pi/2), 4))],[0,1,0],[round(sp.sin(sp.pi/2), 4),0,(round(sp.cos(sp.pi/2), 4))]])\n",
        "  c4y_matrix=np.dot(atoms1,C4y)\n",
        "  return(C4y,c4y_matrix.astype(float))\n",
        "  c4y_matrix_rounded = np.round(c4y_matrix.astype(float),3)\n",
        "  return(C4y,c4y_matrix_rounded)\n",
        "\n",
        "def c2_matrix_z(): #This is a 180 degree proper rotation on Z-axis\n",
        "  C2=np.array([[sp.cos(sp.pi),-sp.sin(sp.pi),0],[sp.sin(sp.pi),sp.cos(sp.pi),0],[0,0,1]])\n",
        "  c2_matrix=np.dot(atoms1,C2)\n",
        "  return(C2,c2_matrix.astype(float))\n",
        "  c2_matrix_rounded = np.round(c2_matrix.astype(float),3)\n",
        "  return(C2,c2_matrix_rounded)\n",
        "\n",
        "def c2_x(): #This is a 180 degree proper rotation on x-axis\n",
        "  C21=np.array([[1,0,0],[0,sp.cos(sp.pi),-sp.sin(sp.pi)],[0,sp.sin(sp.pi),sp.cos(sp.pi)]])\n",
        "  c2_prime_matrix=np.dot(atoms1,C21)\n",
        "  return(C21,c2_prime_matrix.astype(float))\n",
        "  c2_prime_matrix_rounded = np.round(c2_prime_matrix.astype(float),3)\n",
        "  return(C21,c2_prime_matrix_rounded)\n",
        "\n",
        "def c2_y(): #This is a 180 degree proper rotation on y-axis\n",
        "  C21y=np.array([[sp.cos(sp.pi),0,-sp.sin(sp.pi)],[0,1,0],[sp.sin(sp.pi),0,sp.cos(sp.pi)]])\n",
        "  c2y_prime_matrix=np.dot(atoms1,C21y)\n",
        "  return(C21y,c2y_prime_matrix.astype(float))\n",
        "  c2y_prime_matrix_rounded = np.round(c2y_prime_matrix.astype(float),3)\n",
        "  return(C21y,c2y_prime_matrix_rounded)\n",
        "\n",
        "def c2_dprime(): #This is a 180 degree proper rotation in between the axis\n",
        "  c2_dprime=np.array([[0,-1,0],[-1,0,0],[0,0,-1]])\n",
        "  c2_dprime_matrix=np.dot(atoms1,c2_dprime)\n",
        "  return(c2_dprime,c2_dprime_matrix.astype(float))\n",
        "  c2_dprime_matrix_rounded = np.round(c2_dprime_matrix.astype(float),3)\n",
        "  return(c2_dprime,c2_dprime_matrix_rounded)\n",
        "  #c2 on z-axis\n",
        "\n",
        "def c3_matrix_z(): # This is a C3 (120 degree) rotation on the Z-axis\n",
        "  C3=np.array([[round(sp.cos(sp.pi/1.5), 4),(round(-sp.sin(sp.pi/1.5), 4)),0],[round(sp.sin(sp.pi/1.5),4),(round(sp.cos(sp.pi/1.5), 4)) ,0],[0,0,1]])\n",
        "  c3_matrix=np.dot(atoms1,C3)\n",
        "  return(C3,c3_matrix.astype(float))\n",
        "  c3_matrix_rounded = np.round(c3_matrix.astype(float),3)\n",
        "  return(C3,c3_matrix_rounded)\n",
        "\"\"\"def c3_matrix_z(): # The result is thesame as the above commented lines of code\n",
        "  theta = 2 * math.pi / 3\n",
        "  c3 = np.array([[-math.cos(theta), -math.sin(theta), 0],\n",
        "                           [math.sin(theta), -math.cos(theta), 0],\n",
        "                           [0, 0, 1]])\n",
        "  c3_matrix=np.dot(atoms,c3)\n",
        "  return(c3,c3_matrix.astype(float)\"\"\"\n",
        "\n",
        "\n",
        "def c_3_matrix_x(): # This is a C3 (120 degree) rotation on x-axis\n",
        "  C_3=np.array([[1,0,0],[0,round(sp.cos(sp.pi/1.5), 4),(round(-sp.sin(sp.pi/1.5), 4))],[0,round(sp.sin(sp.pi/1.5),4),(round(sp.cos(sp.pi/1.5),4))]])\n",
        "  c_3_matrix=np.dot(atoms1,C_3)\n",
        "  return(C_3,c_3_matrix.astype(float))\n",
        "  c_3_matrix_rounded = np.round(c_3_matrix.astype(float),3)\n",
        "  return(C_3,c_3_matrix_rounded)\n",
        "\n",
        "def c_3_matrix_y(): # This is a C3 (120 degree) rotation on y-axis\n",
        "  C_32=np.array([[round(sp.cos(sp.pi/1.5), 4),0,(round(-sp.sin(sp.pi/1.5), 4))],[0,1,0],[round(sp.sin(sp.pi/1.5),4),0,(round(sp.cos(sp.pi/1.5),4))]])\n",
        "  c_32_matrix=np.dot(atoms1,C_32)\n",
        "  return(C_32,c_32_matrix.astype(float))\n",
        "  c_32_matrix_rounded = np.round(c_32_matrix.astype(float),3)\n",
        "  return(C_32,c_32_matrix_rounded)\n",
        "\n",
        "def c3_dprime(): # This is a C3 (120 degree) rotation between the axis\n",
        "  C32=np.array([[0,1,0],[0,0,1],[1,0,0]])\n",
        "  c3_dprime=np.dot(atoms1,C32)\n",
        "  return(C32,c3_dprime.astype(float))\n",
        "  c3_dprime_rounded = np.round(c3_dprime.astype(float),3)\n",
        "  return(C32,c3_dprime_rounded)\n",
        "\n",
        "def inversion(natoms):\n",
        "   E=np.identity(3)\n",
        "   I_matrix=np.dot(atoms1,-E)\n",
        "   return(-E,I_matrix.astype(float))\n",
        "   I_matrix_rounded = np.round(I_matrix.astype(float),3)\n",
        "   return(-E,I_matrix_rounded)\n",
        "\n",
        "def s2(): # This is a 180 degree improper rotation along the Z-axis\n",
        "  C2=np.array([[sp.cos(sp.pi),-sp.sin(sp.pi),0],[sp.sin(sp.pi),sp.cos(sp.pi),0],[0,0,1]])\n",
        "  sh=np.array([[1,0,0],[0,1,0],[0,0,-1]])\n",
        "  s2=np.dot(C2,sh)\n",
        "  s2_matrix=multi_dot([atoms1,C2,sh])\n",
        "  return(s2,s2_matrix.astype(float))\n",
        "  s2_matrix_rounded = np.round(s2_matrix.astype(float),3)\n",
        "  return(s2,s2_matrix_rounded)\n",
        "\n",
        "def s3(): # This is a 120 degree improper rotation along the Z-axis\n",
        "  C3=np.array([[round(sp.cos(sp.pi/1.5), 4),(round(-sp.sin(sp.pi/1.5), 4)),0],[round(sp.sin(sp.pi/1.5),4) ,(round(sp.cos(sp.pi/1.5), 4)) ,0],[0,0,1]])\n",
        "  sh=np.array([[1,0,0],[0,1,0],[0,0,-1]])\n",
        "  s3=np.dot(C3,sh)\n",
        "  s3_matrix=multi_dot([atoms1,C3,sh])\n",
        "  return(s3,s3_matrix.astype(float))\n",
        "  s3_matrix_rounded = np.round(s3_matrix.astype(float),3)\n",
        "  return(s3,s3_matrix_rounded)\n",
        "\n",
        "def s_4():  #This is a 90 degree improper rotation in between the axis\n",
        "  C_4=np.array([[round(sp.cos(sp.pi/2),4),(round(-sp.sin(sp.pi/2), 4)),0],[round(-sp.sin(sp.pi/2), 4),(round(sp.cos(sp.pi/2), 4)),0],[0,0,-1]])\n",
        "  sh=np.array([[1,0,0],[0,-1,0],[0,0,1]])\n",
        "  s_4=np.dot(C_4,sh)\n",
        "  s_4_matrix=multi_dot([atoms1,C_4,sh])\n",
        "  return(s_4,s_4_matrix.astype(float))\n",
        "  s_4_matrix_rounded = np.round(s_4_matrix.astype(float),3)\n",
        "  return(s_4,s_4_matrix_rounded)\n",
        "\n",
        "def c_4_matrix():  # 90 degree proper rotation in between the axis\n",
        "  C_4=np.array([[round(sp.cos(sp.pi/2),4),(round(-sp.sin(sp.pi/2), 4)),0],[round(-sp.sin(sp.pi/2), 4),(round(sp.cos(sp.pi/2), 4)),0],[0,0,-1]])\n",
        "  c_4_matrix=np.dot(atoms1,C_4)\n",
        "  return(C_4,c_4_matrix.astype(float))\n",
        "  c_4_matrix_rounded = np.round(c_4_matrix.astype(float),3)\n",
        "  return(C_4,c_4_matrix_rounded)\n",
        "\n",
        "def s4(): # This is the 90 degree improper rotation on the Z-axis.\n",
        "  C4=np.array([[round(sp.cos(sp.pi/2),4),(round(-sp.sin(sp.pi/2), 4)),0],[round(sp.sin(sp.pi/2), 4),(round(sp.cos(sp.pi/2), 4)),0],[0,0,1]])\n",
        "  sh=np.array([[1,0,0],[0,1,0],[0,0,-1]])\n",
        "  s4=np.dot(C4,sh)\n",
        "  s4_matrix=multi_dot([atoms1,C4,sh])\n",
        "  return(s4,s4_matrix.astype(float))\n",
        "  s4_matrix_rounded = np.round(s4_matrix.astype(float),3)\n",
        "  return(s4,s4_matrix_rounded)\n",
        "\n",
        "def s6(): # This is the 60 degree improper rotation on the Z-axis.\n",
        "  C6=np.array([[round(sp.cos(sp.pi/3),4),(round(-sp.sin(sp.pi/3), 4)),0],[round(sp.sin(sp.pi/3), 4),(round(sp.cos(sp.pi/3), 4)),0],[0,0,1]])\n",
        "  sh=np.array([[1,0,0],[0,1,0],[0,0,-1]])\n",
        "  s6=np.dot(C6,sh)\n",
        "  s6_matrix=multi_dot([atoms1,C6,sh])\n",
        "  return(s6,s6_matrix.astype(float))\n",
        "  s6_matrix_rounded = np.round(s6_matrix.astype(float),3)\n",
        "  return(s6,s6_matrix_rounded)\n",
        "\n",
        "def s62(): # This is the 60 degree improper rotation in between the axis.\n",
        "  s62=np.array([[0,1,0],[0,0,1],[-1,0,0]])\n",
        "  s62_matrix=np.dot(atoms1,s62)\n",
        "  return(s62,s62_matrix.astype(float))\n",
        "  s62_matrix_rounded = np.round(s62_matrix.astype(float),3)\n",
        "  return(s62,s62_matrix_rounded)\n",
        "\n",
        "def sigmah(): #This is the horizontal reflection\n",
        "  sh=np.array([[1,0,0],[0,1,0],[0,0,-1]])\n",
        "  sigmah=np.dot(atoms1,sh)\n",
        "  return(sh,sigmah.astype(float))\n",
        "  sigmah_rounded = np.round(sigmah.astype(float),3)\n",
        "  return(sh,sigmah_rounded)\n",
        "\n",
        "def sigmav(): # This is the vertical reflection plane along the y-axis and also contains the principal axis\n",
        "  sv=np.array([[-1,0,0],[0,1,0],[0,0,1]])\n",
        "  sigmav=np.dot(atoms1,sv)\n",
        "  return(sv,sigmav.astype(float))\n",
        "  sigmav_rounded = np.round(sigmav.astype(float),3)\n",
        "  return(sv,sigmav_rounded)\n",
        "\n",
        "def sigmav_xz(): # This is the vertical reflection plane along the X- axis and also contains the principal axis\n",
        "  Sv=np.array([[1,0,0],[0,-1,0],[0,0,1]])\n",
        "  sigmav_xz=np.dot(atoms1,Sv)\n",
        "  return(Sv,sigmav_xz.astype(float))\n",
        "  sigmav_xz_rounded = np.round(sigmav_xz.astype(float),3)\n",
        "  return(Sv,sigmav_xz_rounded)\n",
        "\n",
        "def sigmav_xy():\n",
        "  Sv=np.array([[1,0,0],[0,1,0],[0,0,-1]])\n",
        "  sigmav_xy=np.dot(atoms1,Sv)\n",
        "  return(Sv,sigmav_xy.astype(float))\n",
        "  sigmav_xy_rounded = np.round(sigmav_xy.astype(float),3)\n",
        "  return(Sv,sigmav_xy_rounded)\n",
        "\n",
        "def sigmad(): # This is the diagonal/dihedral reflection plane (A vertical mirror plane that bisects the angle between two C2 axes)\n",
        "  sd=np.array([[-1,0,0],[0,-1,0],[0,0,1]])\n",
        "  sigmad=np.dot(atoms1,sd)\n",
        "  return(sd,sigmad.astype(float))\n",
        "  sigmad_rounded = np.round(sigmad.astype(float),3)\n",
        "  return(sd,sigmad_rounded)\n",
        "\n",
        "def sigmad1(): # This is the diagonal/dihedral reflection plane between the axis (reflection along the diagonal of a 3D space, which goes through the origin which goes through the origin and two axes)\n",
        "  sd1=np.array([[1, 0, 0], [0, -1, 0], [0, 0, 1]])\n",
        "  sigmad1=np.dot(atoms1,sd1)\n",
        "  return(sd1,sigmad1.astype(float))\n",
        "  sigmad1_rounded = np.round(sigmad1.astype(float),3)\n",
        "  return(sd1,sigmad1_rounded)\n",
        "\n",
        "E=identity_matrix(natoms)\n",
        "C4=c4_matrix()\n",
        "c22=c2_dprime()\n",
        "I=inversion(natoms)\n",
        "S4=s4()\n",
        "S6=s6()\n",
        "S62=s62()\n",
        "SH=sigmah()\n",
        "SV=sigmav()\n",
        "SD=sigmad()\n",
        "\n",
        "#Determines how many unmoved atoms are left in each symmetry operation\n",
        "def um(symmetry):\n",
        "  rho=0\n",
        "  row0=0\n",
        "  for row1 in symmetry:\n",
        "    if np.array_equal(row1,atoms1[row0]):\n",
        "      rho += 1\n",
        "    row0 += 1\n",
        "  return rho"
      ]
    },
    {
      "cell_type": "code",
      "execution_count": null,
      "metadata": {
        "cellView": "form",
        "id": "1LaYe2J15S5Z"
      },
      "outputs": [],
      "source": [
        "#@title *Apply the symmetry operations on your chosen molecule and find out the number of unmoved positions*\n",
        "#code to assign symmetry operations to each point group and then return the resulting matrix.\n",
        "#def symmetry_designation:\n",
        "\n",
        "\n",
        "if pg == \"Di\":\n",
        "    print(\"Your point group is:\",pg)\n",
        "    print(\"Symmetry operations used in your point group are:\")\n",
        "    print(\"E,C∞,C2\\',i,S∞,σ∞\")\n",
        "    E,E_1=identity_matrix(natoms)\n",
        "    C2,C2_1=c2_matrix_z()\n",
        "    C21,C21_1=c2_x()\n",
        "    c22,c22_1=c2_dprime()\n",
        "    I,I_1= inversion(natoms)\n",
        "    Sv,Sv_1=sigmav()\n",
        "    Sv1,Sv1_1=sigmav_xz()\n",
        "    Sv2,Sv2_1=sigmav_xy()\n",
        "    G=np.array([um(E_1),um(C2_1),um(C21_1),um(c22_1),um(I_1),um(Sv2_1),um(Sv1_1),um(Sv_1)])\n",
        "\n",
        "    print(\"Initial atom coordinates matrix:\\n\",atoms1)\n",
        "    print(\"Identity matrix:\\n\",E)\n",
        "    print(\"Resulting matrix after E:\\n\",E_1)\n",
        "    print(\"C∞ matrix: \\n\",C2)\n",
        "    print(\"Resulting matrix after C∞:\\n\",C2_1)\n",
        "    print(\"Inversion matrix:\\n\",I)\n",
        "    print(\"Resulting matrix after I: \\n\",I_1 )\n",
        "    print(\"σ∞ matrix: \\n\",Sv)\n",
        "    print(\"Resulting matrix after σ∞ matrix: \\n\",Sv_1 )\n",
        "    print(\"σ∞ matrix: \\n\",Sv1)\n",
        "    print(\"Resulting matrix after σ∞ matrix: \\n\",Sv1_1 )\n",
        "    print(\"σ∞ matrix: \\n\",Sv2)\n",
        "    print(\"Resulting matrix after σ∞ matrix: \\n\",Sv2_1 )\n",
        "\n",
        "elif pg == \"D3h\":\n",
        "    print(\"Your point group is:\",pg)\n",
        "    print(\"Symmetry operations used in your point group are:\")\n",
        "    print(\"E, C3, C2, σh, S3, σv\")\n",
        "    E,E_1=identity_matrix(natoms)\n",
        "    C3,C3_1=c3_matrix_z()\n",
        "    C21,C21_1=c2_y()\n",
        "    sh,sh_1=sigmah()\n",
        "    S3,S3_1=s3()\n",
        "    Sv,Sv_1=sigmav()\n",
        "    G=np.array([um(E_1),um(C3_1),um(C21_1),um(sh_1),um(S3_1),um(Sv_1)])\n",
        "\n",
        "    print(\"Initial atom coordinates matrix:\\n\",atoms1)\n",
        "    print(\"Identity matrix:\\n\",E)\n",
        "    print(\"Resulting matrix after E: \\n\",E_1 )\n",
        "    print(\"C3 matrix: \\n\",C3)\n",
        "    print(\"Resulting matrix after C3: \\n\",C3_1)\n",
        "    print(\"C2 matrix: \\n\",C21)\n",
        "    print(\"Resulting matrix after C2: \\n\",C21_1)\n",
        "    print(\"σh matrix: \\n\",sh)\n",
        "    print(\"Resulting matrix after σh matrix: \\n\",sh_1 )\n",
        "    print(\"S3 matrix: \\n\",S3)\n",
        "    print(\"Resulting matrix after S3:\\n\",S3_1)\n",
        "    print(\"σv matrix: \\n\",Sv)\n",
        "    print(\"Resulting matrix after σv_xz matrix: \\n\",Sv_1 )\n",
        "\n",
        "elif pg ==\"Oh\":\n",
        "    print(\"Your point group is:\",pg)\n",
        "    print(\"Symmetry operations used in your point group are:\")\n",
        "    print(\"E, C3'',C2'', C4, C2', i, S4, S6, σh, σd\")\n",
        "    E,E_1=identity_matrix(natoms)\n",
        "    C4,C4_1=c4_matrix()\n",
        "    C32,C32_1=c3_dprime()\n",
        "    C2,C2_1=c2_matrix_z()\n",
        "    C21,C21_1=c2_x()\n",
        "    c22,c22_1=c2_dprime()\n",
        "    I,I_1= inversion(natoms)\n",
        "    S4,S4_1=s4()\n",
        "    S62,S62_1=s62()\n",
        "    sh,sh_1=sigmah()\n",
        "    sv,sv_1=sigmav()\n",
        "    sd,sd_1=sigmad()\n",
        "    G=np.array([um(E_1),um(C32_1),um(c22_1),um(C4_1),um(C21_1),um(I_1),um(S4_1),um(S62_1),um(sh_1),um(sd_1)])\n",
        "\n",
        "    print(\"Initial atom coordinates matrix:\\n\",atoms1)\n",
        "    print(\"Identity matrix:\\n\",E)\n",
        "    print(\"Resulting matrix after E: \\n\",E_1 )\n",
        "    print(\"C3'' matrix: \\n\",C32)\n",
        "    print(\"Resulting matrix after C3'': \\n\",C32_1)\n",
        "    print(\"C2'' matrix: \\n\",c22)\n",
        "    print(\"Resulting matrix after C2: \\n\",c22_1)\n",
        "    print(\"C4 matrix: \\n\",C4)\n",
        "    print(\"Resulting matrix after C4: \\n\",C4_1)\n",
        "    print(\"C2' matrix: \\n\",C21)\n",
        "    print(\"Resulting matrix after C2: \\n\",C21_1)\n",
        "    print(\"Inversion matrix:\\n\",I)\n",
        "    print(\"Resulting matrix after I: \\n\",I_1 )\n",
        "    print(\"S4 matrix: \\n\",S4)\n",
        "    print(\"Resulting matrix after S4:\\n\",S4_1)\n",
        "    print(\"S6'' matrix: \\n\",S62)\n",
        "    print(\"Resulting matrix after S6'':\\n\",S62_1)\n",
        "    print(\"σh matrix: \\n\",sh)\n",
        "    print(\"Resulting matrix after σh matrix: \\n\",sh_1 )\n",
        "    print(\"σd matrix: \\n\",sd)\n",
        "    print(\"Resulting matrix after σd matrix: \\n\",sd_1 )\n",
        "\n",
        "\n",
        "elif pg == \"C2v\":\n",
        "    print(\"Your point group is:\",pg)\n",
        "    print(\"Symmetry operations used in your point group are:\")\n",
        "    print(\"E, C2, σv(xz),σv(yz)\")\n",
        "    E,E_1=identity_matrix(natoms)\n",
        "    C2,C2_1=c2_matrix_z()\n",
        "    sv,sv_1=sigmav()\n",
        "    Sv,Sv_1=sigmav_xz()\n",
        "    G=np.array([um(E_1),um(C2_1),um(Sv_1),um(sv_1)])\n",
        "\n",
        "    print(\"Initial atom coordinates matrix:\\n\",atoms1)\n",
        "    print(\"Identity matrix:\\n\",E)\n",
        "    print(\"Resulting matrix after E:\\n\",E_1)\n",
        "    print(\"C2 matrix: \\n\",C2)\n",
        "    print(\"Resulting matrix after C2: \\n\",C2_1)\n",
        "    print(\"σv matrix: \\n\",sv)\n",
        "    print(\"Resulting matrix after σv matrix: \\n\",sv_1 )\n",
        "    print(\"σv_xz matrix: \\n\",Sv)\n",
        "    print(\"Resulting matrix after σv_xz matrix: \\n\",Sv_1 )\n",
        "\n",
        "elif pg == \"Td\":\n",
        "    print(\"Your point group is:\",pg)\n",
        "    print(\"Symmetry operations used in your point group are:\")\n",
        "    print(\"E, C3, C2, S4, σd\")\n",
        "    E,E_1=identity_matrix(natoms)\n",
        "    C3,C3_1=c3_matrix_z()\n",
        "    C2,C2_1=c2_x()\n",
        "    S4,S4_1=s_4()\n",
        "    sd1,sd1_1=sigmad1()\n",
        "    G=np.array([um(E_1),um(C3_1),um(C2_1),um(S4_1),um(sd1_1)])\n",
        "\n",
        "    print(\"Initial atom coordinates matrix:\\n\",atoms1)\n",
        "    print(\"Identity matrix:\\n\",E)\n",
        "    print(\"Resulting matrix after E:\\n\",E_1)\n",
        "    print(\"C3 matrix: \\n\",C3)\n",
        "    print(\"Resulting matrix after C3:\\n\",C3_1)\n",
        "    print(\"C2 matrix: \\n\",C2)\n",
        "    print(\"Resulting matrix after C2:\\n\",C2_1)\n",
        "    print(\"S4 matrix: \\n\",S4)\n",
        "    print(\"Resulting matrix after S4:\\n\",S4_1)\n",
        "    print(\"σd matrix: \\n\",sd1)\n",
        "    print(\"Resulting matrix after σd matrix: \\n\",sd1_1 )\n",
        "\n",
        "elif pg == \"C3v\":\n",
        "    print(\"Your point group is:\",pg)\n",
        "    print(\"Symmetry operations used in your point group are:\")\n",
        "    print(\"E, C3, σv\")\n",
        "    E,E_1=identity_matrix(natoms)\n",
        "    C3,C3_1=c3_matrix_z()\n",
        "    Sv,Sv_1=sigmav_xz()\n",
        "    G=np.array([um(E_1),um(C3_1),um(Sv_1)])\n",
        "\n",
        "    print(\"Initial atom coordinates matrix:\\n\",atoms1)\n",
        "    print(\"Identity matrix:\\n\",E)\n",
        "    print(\"Resulting matrix after E:\\n\",E_1)\n",
        "    print(\"C3 matrix: \\n\",C3)\n",
        "    print(\"Resulting matrix after C3:\\n\",C3_1)\n",
        "    print(\"σv_xz matrix: \\n\",Sv)\n",
        "    print(\"Resulting matrix after σv matrix: \\n\",Sv_1 )\n",
        "\n",
        "elif pg == \"C4v\":\n",
        "    print(\"Your point group is:\",pg)\n",
        "    print(\"Symmetry operations used in your point group are:\")\n",
        "    print(\"E, C4, C2, σv, σd\")\n",
        "    E,E_1=identity_matrix(natoms)\n",
        "    C4,C4_1=c4_matrix()\n",
        "    C2,C2_1=c2_matrix_z()\n",
        "    sv,sv_1=sigmav()\n",
        "    sd,sd_1=sigmad()\n",
        "    G=np.array([um(E_1),um(C4_1),um(C2_1),um(sv_1),um(sd_1)])\n",
        "\n",
        "    print(\"Initial atom coordinates matrix:\\n\",atoms1)\n",
        "    print(\"Identity matrix:\\n\",E)\n",
        "    print(\"Resulting matrix after E:\\n\",E_1)\n",
        "    print(\"C4 matrix: \\n\",C4)\n",
        "    print(\"Resulting matrix after C4: \\n\",C4_1)\n",
        "    print(\"C2 matrix: \\n\",C2)\n",
        "    print(\"Resulting matrix after C2:\\n\",C2_1)\n",
        "    print(\"σv matrix: \\n\",sv)\n",
        "    print(\"Resulting matrix after σv matrix: \\n\",sv_1 )\n",
        "    print(\"σd matrix: \\n\",sd)\n",
        "    print(\"Resulting matrix after σd matrix: \\n\",sd_1 )\n",
        "\n",
        "elif pg == \"D4h\":\n",
        "    print(\"Your point group is:\",pg)\n",
        "    print(\"Symmetry operations used in your point group are:\")\n",
        "    print(\"E, C4, C2, C2', C2'', i, S4, σh, σd, σv\")\n",
        "    E,E_1=identity_matrix(natoms)\n",
        "    C4,C4_1=c4_matrix()\n",
        "    C2,C2_1=c2_matrix_z()\n",
        "    C21,C21_1=c2_x()\n",
        "    c22,c22_1=c2_dprime()\n",
        "    I,I_1= inversion(natoms)\n",
        "    S4,S4_1=s4()\n",
        "    sh,sh_1=sigmah()\n",
        "    sv,sv_1=sigmav()\n",
        "    sd,sd_1=sigmad()\n",
        "    G=np.array([um(E_1),um(C4_1),um(C2_1),um(C21_1),um(c22_1),um(I_1),um(S4_1),um(sh_1),um(sv_1),um(sd_1)])\n",
        "\n",
        "    print(\"Initial atom coordinates matrix:\\n\",atoms1)\n",
        "    print(\"Identity matrix:\\n\",E)\n",
        "    print(\"Resulting matrix after E: \\n\",E_1 )\n",
        "    print(\"C4 matrix: \\n\",C4)\n",
        "    print(\"Resulting matrix after C4: \\n\",C4_1)\n",
        "    print(\"C2 matrix: \\n\",C2)\n",
        "    print(\"Resulting matrix after C2: \\n\",C2_1)\n",
        "    print(\"C2' matrix: \\n\",C21)\n",
        "    print(\"Resulting matrix after C2: \\n\",C21_1)\n",
        "    print(\"C2'' matrix: \\n\",c22)\n",
        "    print(\"Resulting matrix after C2: \\n\",c22_1)\n",
        "    print(\"Inversion matrix:\\n\",I)\n",
        "    print(\"Resulting matrix after I: \\n\",I_1 )\n",
        "    print(\"S4 matrix: \\n\",S4)\n",
        "    print(\"Resulting matrix after S4:\\n\",S4_1)\n",
        "    print(\"σv matrix: \\n\",sv)\n",
        "    print(\"Resulting matrix after σv matrix: \\n\",sv_1 )\n",
        "    print(\"σh matrix: \\n\",sh)\n",
        "    print(\"Resulting matrix after σh matrix: \\n\",sh_1 )\n",
        "    print(\"σd matrix: \\n\",sd)\n",
        "    print(\"Resulting matrix after σd matrix: \\n\",sd_1 )\n",
        "\n",
        "\n",
        "else:\n",
        "  print(\"Not available\")\n",
        "\n",
        "\n",
        "print(\"Number of unmoved positions\",G) #This returns the number of unmoved atoms around a central atom after the operation in the order of symmetry operation in the point group as listed in the result above."
      ]
    },
    {
      "cell_type": "markdown",
      "metadata": {
        "id": "S2zsPP055gN1"
      },
      "source": [
        "## **STEP 3:**"
      ]
    },
    {
      "cell_type": "code",
      "execution_count": null,
      "metadata": {
        "id": "ORC-NR6dHOSX",
        "cellView": "form"
        "cellView": "form",
        "id": "ORC-NR6dHOSX"
      },
      "outputs": [],
      "source": [
        "# @title ***Next, you will predict the vibrations of the molecule:***\n"
      ]
    },
    {
      "cell_type": "markdown",
      "metadata": {
        "id": "AyjPt_-q8WJP"
      },
      "source": [
        "### *What does stretching vibrations of molecules look like?*\n",
        "\n",
        "<p align=\"justify\"> Think of stretching vibrations as molecular yoga poses! Similar to how various yoga postures stretch and flex various body regions, various stretching vibrations in molecules stretch and flex various chemical bonds. IR and Raman vibrational frequencies are important for characterizing functional groups and chemical properties. Scientists can use IR and Raman spectra to learn more about molecular yoga poses and properties, and possibly find a new way to stretch molecules.\n",
        "\n",
        "<p align=\"justify\">In this section, we will calculate the irreducible representations to determine the IR/Raman vibrations of the molecules. However, this notebook is currently designed to deduce the strecthing vibrations of atoms surrounding a central atom (SELECTED stretching vibrations).\n",
        "\n",
        "<center>\n",
        "\n",
        "![picture](https://drive.google.com/uc?export=view&id=1UTLEuBFjLdqhrzQHdVwU05AsFin-I031)\n",
        "\n",
        "\n",
        "<p align=\"justify\">The irreducible representations of each point group and their accompanying matrix characters are contained in a character table, a two-dimensional chart connected with a point group. Also, it includes the Mulliken symbols used to describe the size of irreducible representations.\n",
        "\n",
        "<p align=\"justify\">The character table can be read from an Excel file into a special type of table called a DataFrame using a Pandas library to perform some calculations with the \"order of the group,” “the number of unmoved positions after each operation,” and “characters.”\n",
        "\n",
        "\n",
        "<p align=\"justify\">The number of irreducible representations is usually calculated by taking the sum of the products of the number of unmoved positions, the coefficient of each symmetry operation, and the character of the irreducible representation and dividing the sum by the order of the group.\n",
        "\n",
        "<p align=\"justify\">This calculations can be done all at once in the dataframe and returned as a column(M).\n",
        "\n",
        "When M=0, that particular irreducible representation is absent.\n",
        "\n",
        "<p align=\"justify\">When M=1,2....; there are that number of the irreducible representation present and is written as the coefficient of the irreducible representations that makes up that selected vibration.\n",
        "\n",
        "***For example; from the display below:***\n",
        "\n",
        "![picture](https://drive.google.com/uc?export=view&id=1LnQB9wvE2k7GNQILBm2ycdzme8ZwhVab)\n",
        "\n",
        "***The ireducible representations = 1.0 A1 + 1.0 B2 = A1 + B2***\n",
        "\n",
        "\n",
        "\n",
        "<p align=\"justify\">Vibrations that are IR active corresponds to \"X\", \"Y\", or \"Z\" in the linear function column while those that are Raman active corresponds any term in the quadratic function column. M gives the number of IR or Raman Bands present.\n"
      ]
    },
    {
      "cell_type": "code",
      "execution_count": null,
      "metadata": {
        "cellView": "form",
        "id": "udLqYqnR1lce"
      },
      "outputs": [],
      "source": [
        "#@title *Call out Character table as dataframe.*\n",
        "import pandas as pd\n",
        "df=pd.read_excel('./Group_theory_for_IR/charactertables.xlsx',pg)\n",
        "searchfor=['x','y','z']\n",
        "df2=df[~df['Linear'].isnull()]\n",
        "rows=len(df2.index)\n",
        "\n",
        "D=df.iloc[-1:,1:].dropna(axis='columns').to_numpy()\n",
        "D.flatten()\n",
        "h=np.sum(D) # This gives the order of the group\n",
        "df"
      ]
    },
    {
      "cell_type": "code",
      "execution_count": null,
      "metadata": {
        "cellView": "form",
        "id": "pRTISMK8hRfN"
      },
      "outputs": [],
      "source": [
    "#@title *Deduce the order of the group, number of unmoved atoms, and symmetry operations.*\n",
        "#@title *Deduce the order of the group, number of unmoved atoms, and symmetry operations.*\n",
        "\n",
        "#Calculating the numbers of Irreducible representations.\n",
        "M=[]\n",
        "rows=len(df.index)-1\n",
        "for i in range(rows):\n",
        "  N1=0\n",
        "  row_list=df.loc[i].to_list()\n",
        "  row_list=row_list[1:-3]\n",
        "  [float(i) for i in row_list]\n",
        "  for j in range(len(row_list)):\n",
        "    N=(G[j]*D[0,j]*row_list[j])\n",
        "    N1 =N1+ N\n",
        "  N2=N1/h\n",
        "  M.append(N2)\n",
        "M.append(0)\n",
        "df['M']=M #the coefficient of the particular irreducible representation present\n",
        "df\n",
        "\n",
        "\n",
        "#Order of the group, Number of unmoved atoms, and Symmetry operations.\n",
        "print(\"The number of unmoved atoms=\",(G))\n",
        "print(\"The coefficient of each symmetry operation=\",(D))\n",
        "print(\"The order of the group=\", (h))"
      ]
    },
    {
      "cell_type": "code",
      "execution_count": null,
      "metadata": {
        "cellView": "form",
        "id": "WtrHcznoMVeO"
      },
      "outputs": [],
      "source": [
        "#@title *Deduce the irreducible representations for your molecule:*\n",
        "df[df.M > 0]"
      ]
    },
    {
      "cell_type": "code",
      "execution_count": null,
      "metadata": {
        "cellView": "form",
        "id": "49LzgqX7bdnO"
      },
      "outputs": [],
      "source": [
        "#@title *Deduce which representations correspond to an IR active Bands.*\n",
        "df[df.Linear.notna() & df.M > 0]"
      ]
    },
    {
      "cell_type": "code",
      "execution_count": null,
      "metadata": {
        "cellView": "form",
        "id": "PVpOUwnhoFhZ"
      },
      "outputs": [],
      "source": [
        "#@title *Deduce which representations correspond to an Raman active Bands.*\n",
        "df[df.Quadratic.notna() & df.M > 0]"
      ]
    },
    {
      "cell_type": "markdown",
      "metadata": {
        "id": "59ciNXPRHkLM"
      },
      "source": [
        "## **Conclusion**\n",
        "\n",
        "<p align=\"justify\">\n",
        "In this notebook, we were able to go from an xyz coordinate of a specific VSEPR geometry to predicting the IR bands. Ultimately, the goal of this notebook is to help you develop an intuition for the relationship between molecular geometry and IR spectra. By practicing with different molecules and geometries, you'll gain a deeper understanding of how to interpret IR spectra and how to use them to identify unknown compounds. So keep practicing and have fun exploring the fascinating world of molecular vibrations!"
      ]
    },
    {
      "cell_type": "markdown",
      "metadata": {
        "id": "s5Fp0aduJpCU"
      },
      "source": [
        "## **References**\n",
        "\n",
        "1. Chemical applications of group theory (Cotton, F. Albert). Harry B. Gray\n",
        "Journal of Chemical Education 1964 41 (2), 113\n",
        "DOI: 10.1021/ed041p113.2\n",
        "2. https://symotter.org/"
      ]
    }
  ],
  "metadata": {
    "colab": {
      "cell_execution_strategy": "setup",
      "collapsed_sections": [
        "hMqw7BGcvjT0"
      ],
      "provenance": [],
      "include_colab_link": true
      "provenance": []
    },
    "kernelspec": {
      "display_name": "Python 3 (ipykernel)",
      "display_name": "Python 3",
      "language": "python",
      "name": "python3"
    },
    "language_info": {
      "codemirror_mode": {
        "name": "ipython",
        "version": 3
      },
      "file_extension": ".py",
      "mimetype": "text/x-python",
      "name": "python",
      "nbconvert_exporter": "python",
      "pygments_lexer": "ipython3",
      "version": "3.10.12"
      "version": "3.11.9"
    }
  },
  "nbformat": 4,
  "nbformat_minor": 0
}
}